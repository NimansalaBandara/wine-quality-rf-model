{
 "cells": [
  {
   "cell_type": "markdown",
   "id": "ff2d3a46",
   "metadata": {
    "papermill": {
     "duration": 0.006805,
     "end_time": "2025-07-25T04:14:40.492599",
     "exception": false,
     "start_time": "2025-07-25T04:14:40.485794",
     "status": "completed"
    },
    "tags": []
   },
   "source": [
    "# Import Dependencies"
   ]
  },
  {
   "cell_type": "code",
   "execution_count": 1,
   "id": "ac4e26f8",
   "metadata": {
    "_cell_guid": "b1076dfc-b9ad-4769-8c92-a6c4dae69d19",
    "_uuid": "8f2839f25d086af736a60e9eeb907d3b93b6e0e5",
    "execution": {
     "iopub.execute_input": "2025-07-25T04:14:40.505679Z",
     "iopub.status.busy": "2025-07-25T04:14:40.505370Z",
     "iopub.status.idle": "2025-07-25T04:14:44.710854Z",
     "shell.execute_reply": "2025-07-25T04:14:44.709473Z"
    },
    "papermill": {
     "duration": 4.214196,
     "end_time": "2025-07-25T04:14:44.712898",
     "exception": false,
     "start_time": "2025-07-25T04:14:40.498702",
     "status": "completed"
    },
    "tags": []
   },
   "outputs": [],
   "source": [
    "import numpy as np\n",
    "import pandas as pd\n",
    "import matplotlib.pyplot as plt\n",
    "import seaborn as sns\n",
    "from sklearn.metrics import accuracy_score\n",
    "from sklearn.model_selection import train_test_split\n",
    "from sklearn.ensemble import RandomForestClassifier\n"
   ]
  },
  {
   "cell_type": "markdown",
   "id": "475b29f9",
   "metadata": {
    "papermill": {
     "duration": 0.005481,
     "end_time": "2025-07-25T04:14:44.724584",
     "exception": false,
     "start_time": "2025-07-25T04:14:44.719103",
     "status": "completed"
    },
    "tags": []
   },
   "source": [
    "# Data Collection"
   ]
  },
  {
   "cell_type": "code",
   "execution_count": 2,
   "id": "a0875c4a",
   "metadata": {
    "execution": {
     "iopub.execute_input": "2025-07-25T04:14:44.738112Z",
     "iopub.status.busy": "2025-07-25T04:14:44.737651Z",
     "iopub.status.idle": "2025-07-25T04:14:44.759681Z",
     "shell.execute_reply": "2025-07-25T04:14:44.759010Z"
    },
    "papermill": {
     "duration": 0.030066,
     "end_time": "2025-07-25T04:14:44.761178",
     "exception": false,
     "start_time": "2025-07-25T04:14:44.731112",
     "status": "completed"
    },
    "tags": []
   },
   "outputs": [],
   "source": [
    "# loading the data set to a pandas dataframe\n",
    "wine_dataset = pd.read_csv(\"/kaggle/input/wine-quality/winequality-red.csv\")"
   ]
  },
  {
   "cell_type": "code",
   "execution_count": 3,
   "id": "99f686a0",
   "metadata": {
    "execution": {
     "iopub.execute_input": "2025-07-25T04:14:44.774486Z",
     "iopub.status.busy": "2025-07-25T04:14:44.773782Z",
     "iopub.status.idle": "2025-07-25T04:14:44.779844Z",
     "shell.execute_reply": "2025-07-25T04:14:44.778989Z"
    },
    "papermill": {
     "duration": 0.014075,
     "end_time": "2025-07-25T04:14:44.781180",
     "exception": false,
     "start_time": "2025-07-25T04:14:44.767105",
     "status": "completed"
    },
    "tags": []
   },
   "outputs": [
    {
     "data": {
      "text/plain": [
       "(1599, 12)"
      ]
     },
     "execution_count": 3,
     "metadata": {},
     "output_type": "execute_result"
    }
   ],
   "source": [
    "# number of rows and columns\n",
    "wine_dataset.shape"
   ]
  },
  {
   "cell_type": "code",
   "execution_count": 4,
   "id": "8df3ed97",
   "metadata": {
    "execution": {
     "iopub.execute_input": "2025-07-25T04:14:44.794089Z",
     "iopub.status.busy": "2025-07-25T04:14:44.793693Z",
     "iopub.status.idle": "2025-07-25T04:14:44.821608Z",
     "shell.execute_reply": "2025-07-25T04:14:44.820800Z"
    },
    "papermill": {
     "duration": 0.035841,
     "end_time": "2025-07-25T04:14:44.822971",
     "exception": false,
     "start_time": "2025-07-25T04:14:44.787130",
     "status": "completed"
    },
    "tags": []
   },
   "outputs": [
    {
     "data": {
      "text/html": [
       "<div>\n",
       "<style scoped>\n",
       "    .dataframe tbody tr th:only-of-type {\n",
       "        vertical-align: middle;\n",
       "    }\n",
       "\n",
       "    .dataframe tbody tr th {\n",
       "        vertical-align: top;\n",
       "    }\n",
       "\n",
       "    .dataframe thead th {\n",
       "        text-align: right;\n",
       "    }\n",
       "</style>\n",
       "<table border=\"1\" class=\"dataframe\">\n",
       "  <thead>\n",
       "    <tr style=\"text-align: right;\">\n",
       "      <th></th>\n",
       "      <th>fixed acidity</th>\n",
       "      <th>volatile acidity</th>\n",
       "      <th>citric acid</th>\n",
       "      <th>residual sugar</th>\n",
       "      <th>chlorides</th>\n",
       "      <th>free sulfur dioxide</th>\n",
       "      <th>total sulfur dioxide</th>\n",
       "      <th>density</th>\n",
       "      <th>pH</th>\n",
       "      <th>sulphates</th>\n",
       "      <th>alcohol</th>\n",
       "      <th>quality</th>\n",
       "    </tr>\n",
       "  </thead>\n",
       "  <tbody>\n",
       "    <tr>\n",
       "      <th>0</th>\n",
       "      <td>7.4</td>\n",
       "      <td>0.70</td>\n",
       "      <td>0.00</td>\n",
       "      <td>1.9</td>\n",
       "      <td>0.076</td>\n",
       "      <td>11.0</td>\n",
       "      <td>34.0</td>\n",
       "      <td>0.9978</td>\n",
       "      <td>3.51</td>\n",
       "      <td>0.56</td>\n",
       "      <td>9.4</td>\n",
       "      <td>5</td>\n",
       "    </tr>\n",
       "    <tr>\n",
       "      <th>1</th>\n",
       "      <td>7.8</td>\n",
       "      <td>0.88</td>\n",
       "      <td>0.00</td>\n",
       "      <td>2.6</td>\n",
       "      <td>0.098</td>\n",
       "      <td>25.0</td>\n",
       "      <td>67.0</td>\n",
       "      <td>0.9968</td>\n",
       "      <td>3.20</td>\n",
       "      <td>0.68</td>\n",
       "      <td>9.8</td>\n",
       "      <td>5</td>\n",
       "    </tr>\n",
       "    <tr>\n",
       "      <th>2</th>\n",
       "      <td>7.8</td>\n",
       "      <td>0.76</td>\n",
       "      <td>0.04</td>\n",
       "      <td>2.3</td>\n",
       "      <td>0.092</td>\n",
       "      <td>15.0</td>\n",
       "      <td>54.0</td>\n",
       "      <td>0.9970</td>\n",
       "      <td>3.26</td>\n",
       "      <td>0.65</td>\n",
       "      <td>9.8</td>\n",
       "      <td>5</td>\n",
       "    </tr>\n",
       "    <tr>\n",
       "      <th>3</th>\n",
       "      <td>11.2</td>\n",
       "      <td>0.28</td>\n",
       "      <td>0.56</td>\n",
       "      <td>1.9</td>\n",
       "      <td>0.075</td>\n",
       "      <td>17.0</td>\n",
       "      <td>60.0</td>\n",
       "      <td>0.9980</td>\n",
       "      <td>3.16</td>\n",
       "      <td>0.58</td>\n",
       "      <td>9.8</td>\n",
       "      <td>6</td>\n",
       "    </tr>\n",
       "    <tr>\n",
       "      <th>4</th>\n",
       "      <td>7.4</td>\n",
       "      <td>0.70</td>\n",
       "      <td>0.00</td>\n",
       "      <td>1.9</td>\n",
       "      <td>0.076</td>\n",
       "      <td>11.0</td>\n",
       "      <td>34.0</td>\n",
       "      <td>0.9978</td>\n",
       "      <td>3.51</td>\n",
       "      <td>0.56</td>\n",
       "      <td>9.4</td>\n",
       "      <td>5</td>\n",
       "    </tr>\n",
       "  </tbody>\n",
       "</table>\n",
       "</div>"
      ],
      "text/plain": [
       "   fixed acidity  volatile acidity  citric acid  residual sugar  chlorides  \\\n",
       "0            7.4              0.70         0.00             1.9      0.076   \n",
       "1            7.8              0.88         0.00             2.6      0.098   \n",
       "2            7.8              0.76         0.04             2.3      0.092   \n",
       "3           11.2              0.28         0.56             1.9      0.075   \n",
       "4            7.4              0.70         0.00             1.9      0.076   \n",
       "\n",
       "   free sulfur dioxide  total sulfur dioxide  density    pH  sulphates  \\\n",
       "0                 11.0                  34.0   0.9978  3.51       0.56   \n",
       "1                 25.0                  67.0   0.9968  3.20       0.68   \n",
       "2                 15.0                  54.0   0.9970  3.26       0.65   \n",
       "3                 17.0                  60.0   0.9980  3.16       0.58   \n",
       "4                 11.0                  34.0   0.9978  3.51       0.56   \n",
       "\n",
       "   alcohol  quality  \n",
       "0      9.4        5  \n",
       "1      9.8        5  \n",
       "2      9.8        5  \n",
       "3      9.8        6  \n",
       "4      9.4        5  "
      ]
     },
     "execution_count": 4,
     "metadata": {},
     "output_type": "execute_result"
    }
   ],
   "source": [
    "# first five rows\n",
    "wine_dataset.head()"
   ]
  },
  {
   "cell_type": "code",
   "execution_count": 5,
   "id": "2365ee16",
   "metadata": {
    "execution": {
     "iopub.execute_input": "2025-07-25T04:14:44.837282Z",
     "iopub.status.busy": "2025-07-25T04:14:44.836997Z",
     "iopub.status.idle": "2025-07-25T04:14:44.844312Z",
     "shell.execute_reply": "2025-07-25T04:14:44.843563Z"
    },
    "papermill": {
     "duration": 0.01569,
     "end_time": "2025-07-25T04:14:44.845620",
     "exception": false,
     "start_time": "2025-07-25T04:14:44.829930",
     "status": "completed"
    },
    "tags": []
   },
   "outputs": [
    {
     "data": {
      "text/plain": [
       "fixed acidity           0\n",
       "volatile acidity        0\n",
       "citric acid             0\n",
       "residual sugar          0\n",
       "chlorides               0\n",
       "free sulfur dioxide     0\n",
       "total sulfur dioxide    0\n",
       "density                 0\n",
       "pH                      0\n",
       "sulphates               0\n",
       "alcohol                 0\n",
       "quality                 0\n",
       "dtype: int64"
      ]
     },
     "execution_count": 5,
     "metadata": {},
     "output_type": "execute_result"
    }
   ],
   "source": [
    "# checking for is there any missing values\n",
    "wine_dataset.isnull().sum()"
   ]
  },
  {
   "cell_type": "markdown",
   "id": "37b69ef5",
   "metadata": {
    "papermill": {
     "duration": 0.006085,
     "end_time": "2025-07-25T04:14:44.858056",
     "exception": false,
     "start_time": "2025-07-25T04:14:44.851971",
     "status": "completed"
    },
    "tags": []
   },
   "source": [
    "# Data Analysis & Visualizing"
   ]
  },
  {
   "cell_type": "code",
   "execution_count": 6,
   "id": "3c6774a9",
   "metadata": {
    "execution": {
     "iopub.execute_input": "2025-07-25T04:14:44.871716Z",
     "iopub.status.busy": "2025-07-25T04:14:44.871103Z",
     "iopub.status.idle": "2025-07-25T04:14:44.912193Z",
     "shell.execute_reply": "2025-07-25T04:14:44.911277Z"
    },
    "papermill": {
     "duration": 0.049431,
     "end_time": "2025-07-25T04:14:44.913547",
     "exception": false,
     "start_time": "2025-07-25T04:14:44.864116",
     "status": "completed"
    },
    "tags": []
   },
   "outputs": [
    {
     "data": {
      "text/html": [
       "<div>\n",
       "<style scoped>\n",
       "    .dataframe tbody tr th:only-of-type {\n",
       "        vertical-align: middle;\n",
       "    }\n",
       "\n",
       "    .dataframe tbody tr th {\n",
       "        vertical-align: top;\n",
       "    }\n",
       "\n",
       "    .dataframe thead th {\n",
       "        text-align: right;\n",
       "    }\n",
       "</style>\n",
       "<table border=\"1\" class=\"dataframe\">\n",
       "  <thead>\n",
       "    <tr style=\"text-align: right;\">\n",
       "      <th></th>\n",
       "      <th>fixed acidity</th>\n",
       "      <th>volatile acidity</th>\n",
       "      <th>citric acid</th>\n",
       "      <th>residual sugar</th>\n",
       "      <th>chlorides</th>\n",
       "      <th>free sulfur dioxide</th>\n",
       "      <th>total sulfur dioxide</th>\n",
       "      <th>density</th>\n",
       "      <th>pH</th>\n",
       "      <th>sulphates</th>\n",
       "      <th>alcohol</th>\n",
       "      <th>quality</th>\n",
       "    </tr>\n",
       "  </thead>\n",
       "  <tbody>\n",
       "    <tr>\n",
       "      <th>count</th>\n",
       "      <td>1599.000000</td>\n",
       "      <td>1599.000000</td>\n",
       "      <td>1599.000000</td>\n",
       "      <td>1599.000000</td>\n",
       "      <td>1599.000000</td>\n",
       "      <td>1599.000000</td>\n",
       "      <td>1599.000000</td>\n",
       "      <td>1599.000000</td>\n",
       "      <td>1599.000000</td>\n",
       "      <td>1599.000000</td>\n",
       "      <td>1599.000000</td>\n",
       "      <td>1599.000000</td>\n",
       "    </tr>\n",
       "    <tr>\n",
       "      <th>mean</th>\n",
       "      <td>8.319637</td>\n",
       "      <td>0.527821</td>\n",
       "      <td>0.270976</td>\n",
       "      <td>2.538806</td>\n",
       "      <td>0.087467</td>\n",
       "      <td>15.874922</td>\n",
       "      <td>46.467792</td>\n",
       "      <td>0.996747</td>\n",
       "      <td>3.311113</td>\n",
       "      <td>0.658149</td>\n",
       "      <td>10.422983</td>\n",
       "      <td>5.636023</td>\n",
       "    </tr>\n",
       "    <tr>\n",
       "      <th>std</th>\n",
       "      <td>1.741096</td>\n",
       "      <td>0.179060</td>\n",
       "      <td>0.194801</td>\n",
       "      <td>1.409928</td>\n",
       "      <td>0.047065</td>\n",
       "      <td>10.460157</td>\n",
       "      <td>32.895324</td>\n",
       "      <td>0.001887</td>\n",
       "      <td>0.154386</td>\n",
       "      <td>0.169507</td>\n",
       "      <td>1.065668</td>\n",
       "      <td>0.807569</td>\n",
       "    </tr>\n",
       "    <tr>\n",
       "      <th>min</th>\n",
       "      <td>4.600000</td>\n",
       "      <td>0.120000</td>\n",
       "      <td>0.000000</td>\n",
       "      <td>0.900000</td>\n",
       "      <td>0.012000</td>\n",
       "      <td>1.000000</td>\n",
       "      <td>6.000000</td>\n",
       "      <td>0.990070</td>\n",
       "      <td>2.740000</td>\n",
       "      <td>0.330000</td>\n",
       "      <td>8.400000</td>\n",
       "      <td>3.000000</td>\n",
       "    </tr>\n",
       "    <tr>\n",
       "      <th>25%</th>\n",
       "      <td>7.100000</td>\n",
       "      <td>0.390000</td>\n",
       "      <td>0.090000</td>\n",
       "      <td>1.900000</td>\n",
       "      <td>0.070000</td>\n",
       "      <td>7.000000</td>\n",
       "      <td>22.000000</td>\n",
       "      <td>0.995600</td>\n",
       "      <td>3.210000</td>\n",
       "      <td>0.550000</td>\n",
       "      <td>9.500000</td>\n",
       "      <td>5.000000</td>\n",
       "    </tr>\n",
       "    <tr>\n",
       "      <th>50%</th>\n",
       "      <td>7.900000</td>\n",
       "      <td>0.520000</td>\n",
       "      <td>0.260000</td>\n",
       "      <td>2.200000</td>\n",
       "      <td>0.079000</td>\n",
       "      <td>14.000000</td>\n",
       "      <td>38.000000</td>\n",
       "      <td>0.996750</td>\n",
       "      <td>3.310000</td>\n",
       "      <td>0.620000</td>\n",
       "      <td>10.200000</td>\n",
       "      <td>6.000000</td>\n",
       "    </tr>\n",
       "    <tr>\n",
       "      <th>75%</th>\n",
       "      <td>9.200000</td>\n",
       "      <td>0.640000</td>\n",
       "      <td>0.420000</td>\n",
       "      <td>2.600000</td>\n",
       "      <td>0.090000</td>\n",
       "      <td>21.000000</td>\n",
       "      <td>62.000000</td>\n",
       "      <td>0.997835</td>\n",
       "      <td>3.400000</td>\n",
       "      <td>0.730000</td>\n",
       "      <td>11.100000</td>\n",
       "      <td>6.000000</td>\n",
       "    </tr>\n",
       "    <tr>\n",
       "      <th>max</th>\n",
       "      <td>15.900000</td>\n",
       "      <td>1.580000</td>\n",
       "      <td>1.000000</td>\n",
       "      <td>15.500000</td>\n",
       "      <td>0.611000</td>\n",
       "      <td>72.000000</td>\n",
       "      <td>289.000000</td>\n",
       "      <td>1.003690</td>\n",
       "      <td>4.010000</td>\n",
       "      <td>2.000000</td>\n",
       "      <td>14.900000</td>\n",
       "      <td>8.000000</td>\n",
       "    </tr>\n",
       "  </tbody>\n",
       "</table>\n",
       "</div>"
      ],
      "text/plain": [
       "       fixed acidity  volatile acidity  citric acid  residual sugar  \\\n",
       "count    1599.000000       1599.000000  1599.000000     1599.000000   \n",
       "mean        8.319637          0.527821     0.270976        2.538806   \n",
       "std         1.741096          0.179060     0.194801        1.409928   \n",
       "min         4.600000          0.120000     0.000000        0.900000   \n",
       "25%         7.100000          0.390000     0.090000        1.900000   \n",
       "50%         7.900000          0.520000     0.260000        2.200000   \n",
       "75%         9.200000          0.640000     0.420000        2.600000   \n",
       "max        15.900000          1.580000     1.000000       15.500000   \n",
       "\n",
       "         chlorides  free sulfur dioxide  total sulfur dioxide      density  \\\n",
       "count  1599.000000          1599.000000           1599.000000  1599.000000   \n",
       "mean      0.087467            15.874922             46.467792     0.996747   \n",
       "std       0.047065            10.460157             32.895324     0.001887   \n",
       "min       0.012000             1.000000              6.000000     0.990070   \n",
       "25%       0.070000             7.000000             22.000000     0.995600   \n",
       "50%       0.079000            14.000000             38.000000     0.996750   \n",
       "75%       0.090000            21.000000             62.000000     0.997835   \n",
       "max       0.611000            72.000000            289.000000     1.003690   \n",
       "\n",
       "                pH    sulphates      alcohol      quality  \n",
       "count  1599.000000  1599.000000  1599.000000  1599.000000  \n",
       "mean      3.311113     0.658149    10.422983     5.636023  \n",
       "std       0.154386     0.169507     1.065668     0.807569  \n",
       "min       2.740000     0.330000     8.400000     3.000000  \n",
       "25%       3.210000     0.550000     9.500000     5.000000  \n",
       "50%       3.310000     0.620000    10.200000     6.000000  \n",
       "75%       3.400000     0.730000    11.100000     6.000000  \n",
       "max       4.010000     2.000000    14.900000     8.000000  "
      ]
     },
     "execution_count": 6,
     "metadata": {},
     "output_type": "execute_result"
    }
   ],
   "source": [
    "# statistical view of the dataset\n",
    "wine_dataset.describe()"
   ]
  },
  {
   "cell_type": "code",
   "execution_count": 7,
   "id": "cf5e7385",
   "metadata": {
    "execution": {
     "iopub.execute_input": "2025-07-25T04:14:44.928135Z",
     "iopub.status.busy": "2025-07-25T04:14:44.927341Z",
     "iopub.status.idle": "2025-07-25T04:14:45.247673Z",
     "shell.execute_reply": "2025-07-25T04:14:45.246784Z"
    },
    "papermill": {
     "duration": 0.328899,
     "end_time": "2025-07-25T04:14:45.249106",
     "exception": false,
     "start_time": "2025-07-25T04:14:44.920207",
     "status": "completed"
    },
    "tags": []
   },
   "outputs": [
    {
     "name": "stderr",
     "output_type": "stream",
     "text": [
      "/usr/local/lib/python3.11/dist-packages/seaborn/axisgrid.py:118: UserWarning: The figure layout has changed to tight\n",
      "  self._figure.tight_layout(*args, **kwargs)\n"
     ]
    },
    {
     "data": {
      "text/plain": [
       "<seaborn.axisgrid.FacetGrid at 0x7dc6329b64d0>"
      ]
     },
     "execution_count": 7,
     "metadata": {},
     "output_type": "execute_result"
    },
    {
     "data": {
      "image/png": "[encoded data removed]",
      "text/plain": [
       "<Figure size 500x500 with 1 Axes>"
      ]
     },
     "metadata": {},
     "output_type": "display_data"
    }
   ],
   "source": [
    "# number of values for each quality\n",
    "sns.catplot(x = 'quality', data = wine_dataset, kind = 'count')"
   ]
  },
  {
   "cell_type": "code",
   "execution_count": 8,
   "id": "99604a39",
   "metadata": {
    "execution": {
     "iopub.execute_input": "2025-07-25T04:14:45.265263Z",
     "iopub.status.busy": "2025-07-25T04:14:45.264364Z",
     "iopub.status.idle": "2025-07-25T04:14:45.544061Z",
     "shell.execute_reply": "2025-07-25T04:14:45.543219Z"
    },
    "papermill": {
     "duration": 0.28886,
     "end_time": "2025-07-25T04:14:45.545374",
     "exception": false,
     "start_time": "2025-07-25T04:14:45.256514",
     "status": "completed"
    },
    "tags": []
   },
   "outputs": [
    {
     "data": {
      "text/plain": [
       "<Axes: xlabel='quality', ylabel='volatile acidity'>"
      ]
     },
     "execution_count": 8,
     "metadata": {},
     "output_type": "execute_result"
    },
    {
     "data": {
      "image/png": "[encoded data removed]",
      "text/plain": [
       "<Figure size 500x500 with 1 Axes>"
      ]
     },
     "metadata": {},
     "output_type": "display_data"
    }
   ],
   "source": [
    "# volatile acidity vs Quality\n",
    "plot = plt.figure(figsize=(5,5))\n",
    "sns.barplot(x='quality' , y='volatile acidity', data= wine_dataset)"
   ]
  },
  {
   "cell_type": "code",
   "execution_count": 9,
   "id": "451c056b",
   "metadata": {
    "execution": {
     "iopub.execute_input": "2025-07-25T04:14:45.563482Z",
     "iopub.status.busy": "2025-07-25T04:14:45.563199Z",
     "iopub.status.idle": "2025-07-25T04:14:45.841138Z",
     "shell.execute_reply": "2025-07-25T04:14:45.840187Z"
    },
    "papermill": {
     "duration": 0.289234,
     "end_time": "2025-07-25T04:14:45.842804",
     "exception": false,
     "start_time": "2025-07-25T04:14:45.553570",
     "status": "completed"
    },
    "tags": []
   },
   "outputs": [
    {
     "data": {
      "text/plain": [
       "<Axes: xlabel='quality', ylabel='citric acid'>"
      ]
     },
     "execution_count": 9,
     "metadata": {},
     "output_type": "execute_result"
    },
    {
     "data": {
      "image/png": "[encoded data removed]",
      "text/plain": [
       "<Figure size 500x500 with 1 Axes>"
      ]
     },
     "metadata": {},
     "output_type": "display_data"
    }
   ],
   "source": [
    "# citric acid vs Quality\n",
    "plot = plt.figure(figsize=(5,5))\n",
    "sns.barplot(x='quality' , y='citric acid', data= wine_dataset)"
   ]
  },
  {
   "cell_type": "markdown",
   "id": "46812403",
   "metadata": {
    "papermill": {
     "duration": 0.007749,
     "end_time": "2025-07-25T04:14:45.859224",
     "exception": false,
     "start_time": "2025-07-25T04:14:45.851475",
     "status": "completed"
    },
    "tags": []
   },
   "source": [
    "# correlation"
   ]
  },
  {
   "cell_type": "code",
   "execution_count": 10,
   "id": "71ec2273",
   "metadata": {
    "execution": {
     "iopub.execute_input": "2025-07-25T04:14:45.876047Z",
     "iopub.status.busy": "2025-07-25T04:14:45.875688Z",
     "iopub.status.idle": "2025-07-25T04:14:45.882197Z",
     "shell.execute_reply": "2025-07-25T04:14:45.881415Z"
    },
    "papermill": {
     "duration": 0.016611,
     "end_time": "2025-07-25T04:14:45.883856",
     "exception": false,
     "start_time": "2025-07-25T04:14:45.867245",
     "status": "completed"
    },
    "tags": []
   },
   "outputs": [],
   "source": [
    "correlation = wine_dataset.corr()"
   ]
  },
  {
   "cell_type": "code",
   "execution_count": 11,
   "id": "583cc5c1",
   "metadata": {
    "execution": {
     "iopub.execute_input": "2025-07-25T04:14:45.900320Z",
     "iopub.status.busy": "2025-07-25T04:14:45.900055Z",
     "iopub.status.idle": "2025-07-25T04:14:46.560989Z",
     "shell.execute_reply": "2025-07-25T04:14:46.560059Z"
    },
    "papermill": {
     "duration": 0.671585,
     "end_time": "2025-07-25T04:14:46.563253",
     "exception": false,
     "start_time": "2025-07-25T04:14:45.891668",
     "status": "completed"
    },
    "tags": []
   },
   "outputs": [
    {
     "data": {
      "text/plain": [
       "<Axes: >"
      ]
     },
     "execution_count": 11,
     "metadata": {},
     "output_type": "execute_result"
    },
    {
     "data": {
      "image/png": "[encoded data removed]",
      "text/plain": [
       "<Figure size 1000x1000 with 2 Axes>"
      ]
     },
     "metadata": {},
     "output_type": "display_data"
    }
   ],
   "source": [
    "#constructing a heatmap to understand the correlation btw the columns\n",
    "plt.figure(figsize=(10,10))\n",
    "sns.heatmap(correlation, cbar=True, square=True, fmt='.1f', annot=True, annot_kws={'size': 8}, cmap='Greens')\n"
   ]
  },
  {
   "cell_type": "markdown",
   "id": "94ab0d8f",
   "metadata": {
    "papermill": {
     "duration": 0.010593,
     "end_time": "2025-07-25T04:14:46.585320",
     "exception": false,
     "start_time": "2025-07-25T04:14:46.574727",
     "status": "completed"
    },
    "tags": []
   },
   "source": [
    "# Data preprocessing"
   ]
  },
  {
   "cell_type": "code",
   "execution_count": 12,
   "id": "849a1ac7",
   "metadata": {
    "execution": {
     "iopub.execute_input": "2025-07-25T04:14:46.609071Z",
     "iopub.status.busy": "2025-07-25T04:14:46.608186Z",
     "iopub.status.idle": "2025-07-25T04:14:46.622419Z",
     "shell.execute_reply": "2025-07-25T04:14:46.621373Z"
    },
    "papermill": {
     "duration": 0.027432,
     "end_time": "2025-07-25T04:14:46.623973",
     "exception": false,
     "start_time": "2025-07-25T04:14:46.596541",
     "status": "completed"
    },
    "tags": []
   },
   "outputs": [
    {
     "name": "stdout",
     "output_type": "stream",
     "text": [
      "      fixed acidity  volatile acidity  citric acid  residual sugar  chlorides  \\\n",
      "0               7.4             0.700         0.00             1.9      0.076   \n",
      "1               7.8             0.880         0.00             2.6      0.098   \n",
      "2               7.8             0.760         0.04             2.3      0.092   \n",
      "3              11.2             0.280         0.56             1.9      0.075   \n",
      "4               7.4             0.700         0.00             1.9      0.076   \n",
      "...             ...               ...          ...             ...        ...   \n",
      "1594            6.2             0.600         0.08             2.0      0.090   \n",
      "1595            5.9             0.550         0.10             2.2      0.062   \n",
      "1596            6.3             0.510         0.13             2.3      0.076   \n",
      "1597            5.9             0.645         0.12             2.0      0.075   \n",
      "1598            6.0             0.310         0.47             3.6      0.067   \n",
      "\n",
      "      free sulfur dioxide  total sulfur dioxide  density    pH  sulphates  \\\n",
      "0                    11.0                  34.0  0.99780  3.51       0.56   \n",
      "1                    25.0                  67.0  0.99680  3.20       0.68   \n",
      "2                    15.0                  54.0  0.99700  3.26       0.65   \n",
      "3                    17.0                  60.0  0.99800  3.16       0.58   \n",
      "4                    11.0                  34.0  0.99780  3.51       0.56   \n",
      "...                   ...                   ...      ...   ...        ...   \n",
      "1594                 32.0                  44.0  0.99490  3.45       0.58   \n",
      "1595                 39.0                  51.0  0.99512  3.52       0.76   \n",
      "1596                 29.0                  40.0  0.99574  3.42       0.75   \n",
      "1597                 32.0                  44.0  0.99547  3.57       0.71   \n",
      "1598                 18.0                  42.0  0.99549  3.39       0.66   \n",
      "\n",
      "      alcohol  \n",
      "0         9.4  \n",
      "1         9.8  \n",
      "2         9.8  \n",
      "3         9.8  \n",
      "4         9.4  \n",
      "...       ...  \n",
      "1594     10.5  \n",
      "1595     11.2  \n",
      "1596     11.0  \n",
      "1597     10.2  \n",
      "1598     11.0  \n",
      "\n",
      "[1599 rows x 11 columns]\n"
     ]
    }
   ],
   "source": [
    "# separate the data and label\n",
    "X = wine_dataset.drop('quality', axis=1)\n",
    "print(X)"
   ]
  },
  {
   "cell_type": "code",
   "execution_count": 13,
   "id": "57608db9",
   "metadata": {
    "execution": {
     "iopub.execute_input": "2025-07-25T04:14:46.648602Z",
     "iopub.status.busy": "2025-07-25T04:14:46.647836Z",
     "iopub.status.idle": "2025-07-25T04:14:46.653963Z",
     "shell.execute_reply": "2025-07-25T04:14:46.653039Z"
    },
    "papermill": {
     "duration": 0.019401,
     "end_time": "2025-07-25T04:14:46.655316",
     "exception": false,
     "start_time": "2025-07-25T04:14:46.635915",
     "status": "completed"
    },
    "tags": []
   },
   "outputs": [
    {
     "name": "stdout",
     "output_type": "stream",
     "text": [
      "0       5\n",
      "1       5\n",
      "2       5\n",
      "3       6\n",
      "4       5\n",
      "       ..\n",
      "1594    5\n",
      "1595    6\n",
      "1596    6\n",
      "1597    5\n",
      "1598    6\n",
      "Name: quality, Length: 1599, dtype: int64\n"
     ]
    }
   ],
   "source": [
    "Y = wine_dataset['quality']\n",
    "print(Y)"
   ]
  },
  {
   "cell_type": "markdown",
   "id": "f2e9ed8b",
   "metadata": {
    "papermill": {
     "duration": 0.010527,
     "end_time": "2025-07-25T04:14:46.676975",
     "exception": false,
     "start_time": "2025-07-25T04:14:46.666448",
     "status": "completed"
    },
    "tags": []
   },
   "source": [
    " Label Binarization"
   ]
  },
  {
   "cell_type": "code",
   "execution_count": 14,
   "id": "d8fbbfd9",
   "metadata": {
    "execution": {
     "iopub.execute_input": "2025-07-25T04:14:46.700128Z",
     "iopub.status.busy": "2025-07-25T04:14:46.699462Z",
     "iopub.status.idle": "2025-07-25T04:14:46.704965Z",
     "shell.execute_reply": "2025-07-25T04:14:46.704112Z"
    },
    "papermill": {
     "duration": 0.018585,
     "end_time": "2025-07-25T04:14:46.706367",
     "exception": false,
     "start_time": "2025-07-25T04:14:46.687782",
     "status": "completed"
    },
    "tags": []
   },
   "outputs": [],
   "source": [
    "Y = wine_dataset['quality'].apply(lambda y_value:1 if y_value>=7 else 0)"
   ]
  },
  {
   "cell_type": "code",
   "execution_count": 15,
   "id": "9a4a621c",
   "metadata": {
    "execution": {
     "iopub.execute_input": "2025-07-25T04:14:46.730002Z",
     "iopub.status.busy": "2025-07-25T04:14:46.729664Z",
     "iopub.status.idle": "2025-07-25T04:14:46.735686Z",
     "shell.execute_reply": "2025-07-25T04:14:46.734663Z"
    },
    "papermill": {
     "duration": 0.019258,
     "end_time": "2025-07-25T04:14:46.737189",
     "exception": false,
     "start_time": "2025-07-25T04:14:46.717931",
     "status": "completed"
    },
    "tags": []
   },
   "outputs": [
    {
     "name": "stdout",
     "output_type": "stream",
     "text": [
      "0       0\n",
      "1       0\n",
      "2       0\n",
      "3       0\n",
      "4       0\n",
      "       ..\n",
      "1594    0\n",
      "1595    0\n",
      "1596    0\n",
      "1597    0\n",
      "1598    0\n",
      "Name: quality, Length: 1599, dtype: int64\n"
     ]
    }
   ],
   "source": [
    "print (Y)"
   ]
  },
  {
   "cell_type": "markdown",
   "id": "f7dba423",
   "metadata": {
    "papermill": {
     "duration": 0.01074,
     "end_time": "2025-07-25T04:14:46.759135",
     "exception": false,
     "start_time": "2025-07-25T04:14:46.748395",
     "status": "completed"
    },
    "tags": []
   },
   "source": []
  },
  {
   "cell_type": "markdown",
   "id": "3551aac8",
   "metadata": {
    "papermill": {
     "duration": 0.010645,
     "end_time": "2025-07-25T04:14:46.780716",
     "exception": false,
     "start_time": "2025-07-25T04:14:46.770071",
     "status": "completed"
    },
    "tags": []
   },
   "source": [
    "Train & Test split"
   ]
  },
  {
   "cell_type": "code",
   "execution_count": 16,
   "id": "3d45b584",
   "metadata": {
    "execution": {
     "iopub.execute_input": "2025-07-25T04:14:46.804083Z",
     "iopub.status.busy": "2025-07-25T04:14:46.803728Z",
     "iopub.status.idle": "2025-07-25T04:14:46.810588Z",
     "shell.execute_reply": "2025-07-25T04:14:46.809704Z"
    },
    "papermill": {
     "duration": 0.020281,
     "end_time": "2025-07-25T04:14:46.812104",
     "exception": false,
     "start_time": "2025-07-25T04:14:46.791823",
     "status": "completed"
    },
    "tags": []
   },
   "outputs": [],
   "source": [
    "X_train, X_test, Y_train, Y_test = train_test_split(X,Y, test_size=0.2, random_state=3)"
   ]
  },
  {
   "cell_type": "code",
   "execution_count": 17,
   "id": "ba045989",
   "metadata": {
    "execution": {
     "iopub.execute_input": "2025-07-25T04:14:46.835885Z",
     "iopub.status.busy": "2025-07-25T04:14:46.835211Z",
     "iopub.status.idle": "2025-07-25T04:14:46.840043Z",
     "shell.execute_reply": "2025-07-25T04:14:46.839238Z"
    },
    "papermill": {
     "duration": 0.017957,
     "end_time": "2025-07-25T04:14:46.841384",
     "exception": false,
     "start_time": "2025-07-25T04:14:46.823427",
     "status": "completed"
    },
    "tags": []
   },
   "outputs": [
    {
     "name": "stdout",
     "output_type": "stream",
     "text": [
      "(1599,) (1279,) (320,)\n"
     ]
    }
   ],
   "source": [
    "print(Y.shape, Y_train.shape, Y_test.shape)"
   ]
  },
  {
   "cell_type": "markdown",
   "id": "a01a320f",
   "metadata": {
    "papermill": {
     "duration": 0.010813,
     "end_time": "2025-07-25T04:14:46.863305",
     "exception": false,
     "start_time": "2025-07-25T04:14:46.852492",
     "status": "completed"
    },
    "tags": []
   },
   "source": [
    "# Model Train usin Random Forest Classifier"
   ]
  },
  {
   "cell_type": "code",
   "execution_count": 18,
   "id": "e8d7678d",
   "metadata": {
    "execution": {
     "iopub.execute_input": "2025-07-25T04:14:46.887270Z",
     "iopub.status.busy": "2025-07-25T04:14:46.886426Z",
     "iopub.status.idle": "2025-07-25T04:14:46.890638Z",
     "shell.execute_reply": "2025-07-25T04:14:46.889810Z"
    },
    "papermill": {
     "duration": 0.017646,
     "end_time": "2025-07-25T04:14:46.892201",
     "exception": false,
     "start_time": "2025-07-25T04:14:46.874555",
     "status": "completed"
    },
    "tags": []
   },
   "outputs": [],
   "source": [
    "model = RandomForestClassifier()"
   ]
  },
  {
   "cell_type": "code",
   "execution_count": 19,
   "id": "6fdbde6e",
   "metadata": {
    "execution": {
     "iopub.execute_input": "2025-07-25T04:14:46.916923Z",
     "iopub.status.busy": "2025-07-25T04:14:46.916077Z",
     "iopub.status.idle": "2025-07-25T04:14:46.921131Z",
     "shell.execute_reply": "2025-07-25T04:14:46.920315Z"
    },
    "papermill": {
     "duration": 0.018818,
     "end_time": "2025-07-25T04:14:46.922463",
     "exception": false,
     "start_time": "2025-07-25T04:14:46.903645",
     "status": "completed"
    },
    "tags": []
   },
   "outputs": [
    {
     "name": "stdout",
     "output_type": "stream",
     "text": [
      "<class 'pandas.core.series.Series'> False\n"
     ]
    }
   ],
   "source": [
    "print(type(Y_train), Y_train is None)\n"
   ]
  },
  {
   "cell_type": "code",
   "execution_count": 20,
   "id": "a21412fa",
   "metadata": {
    "execution": {
     "iopub.execute_input": "2025-07-25T04:14:46.945643Z",
     "iopub.status.busy": "2025-07-25T04:14:46.945362Z",
     "iopub.status.idle": "2025-07-25T04:14:46.951020Z",
     "shell.execute_reply": "2025-07-25T04:14:46.950073Z"
    },
    "papermill": {
     "duration": 0.018813,
     "end_time": "2025-07-25T04:14:46.952461",
     "exception": false,
     "start_time": "2025-07-25T04:14:46.933648",
     "status": "completed"
    },
    "tags": []
   },
   "outputs": [
    {
     "name": "stdout",
     "output_type": "stream",
     "text": [
      "606     1\n",
      "362     0\n",
      "533     0\n",
      "1397    0\n",
      "733     0\n",
      "       ..\n",
      "789     0\n",
      "256     0\n",
      "968     0\n",
      "952     1\n",
      "1273    0\n",
      "Name: quality, Length: 1279, dtype: int64\n"
     ]
    }
   ],
   "source": [
    "print(Y_train)"
   ]
  },
  {
   "cell_type": "code",
   "execution_count": 21,
   "id": "86767855",
   "metadata": {
    "execution": {
     "iopub.execute_input": "2025-07-25T04:14:46.975892Z",
     "iopub.status.busy": "2025-07-25T04:14:46.975581Z",
     "iopub.status.idle": "2025-07-25T04:14:47.301397Z",
     "shell.execute_reply": "2025-07-25T04:14:47.300569Z"
    },
    "papermill": {
     "duration": 0.339306,
     "end_time": "2025-07-25T04:14:47.302977",
     "exception": false,
     "start_time": "2025-07-25T04:14:46.963671",
     "status": "completed"
    },
    "tags": []
   },
   "outputs": [
    {
     "data": {
      "text/html": [
       "<style>#sk-container-id-1 {color: black;background-color: white;}#sk-container-id-1 pre{padding: 0;}#sk-container-id-1 div.sk-toggleable {background-color: white;}#sk-container-id-1 label.sk-toggleable__label {cursor: pointer;display: block;width: 100%;margin-bottom: 0;padding: 0.3em;box-sizing: border-box;text-align: center;}#sk-container-id-1 label.sk-toggleable__label-arrow:before {content: \"▸\";float: left;margin-right: 0.25em;color: #696969;}#sk-container-id-1 label.sk-toggleable__label-arrow:hover:before {color: black;}#sk-container-id-1 div.sk-estimator:hover label.sk-toggleable__label-arrow:before {color: black;}#sk-container-id-1 div.sk-toggleable__content {max-height: 0;max-width: 0;overflow: hidden;text-align: left;background-color: #f0f8ff;}#sk-container-id-1 div.sk-toggleable__content pre {margin: 0.2em;color: black;border-radius: 0.25em;background-color: #f0f8ff;}#sk-container-id-1 input.sk-toggleable__control:checked~div.sk-toggleable__content {max-height: 200px;max-width: 100%;overflow: auto;}#sk-container-id-1 input.sk-toggleable__control:checked~label.sk-toggleable__label-arrow:before {content: \"▾\";}#sk-container-id-1 div.sk-estimator input.sk-toggleable__control:checked~label.sk-toggleable__label {background-color: #d4ebff;}#sk-container-id-1 div.sk-label input.sk-toggleable__control:checked~label.sk-toggleable__label {background-color: #d4ebff;}#sk-container-id-1 input.sk-hidden--visually {border: 0;clip: rect(1px 1px 1px 1px);clip: rect(1px, 1px, 1px, 1px);height: 1px;margin: -1px;overflow: hidden;padding: 0;position: absolute;width: 1px;}#sk-container-id-1 div.sk-estimator {font-family: monospace;background-color: #f0f8ff;border: 1px dotted black;border-radius: 0.25em;box-sizing: border-box;margin-bottom: 0.5em;}#sk-container-id-1 div.sk-estimator:hover {background-color: #d4ebff;}#sk-container-id-1 div.sk-parallel-item::after {content: \"\";width: 100%;border-bottom: 1px solid gray;flex-grow: 1;}#sk-container-id-1 div.sk-label:hover label.sk-toggleable__label {background-color: #d4ebff;}#sk-container-id-1 div.sk-serial::before {content: \"\";position: absolute;border-left: 1px solid gray;box-sizing: border-box;top: 0;bottom: 0;left: 50%;z-index: 0;}#sk-container-id-1 div.sk-serial {display: flex;flex-direction: column;align-items: center;background-color: white;padding-right: 0.2em;padding-left: 0.2em;position: relative;}#sk-container-id-1 div.sk-item {position: relative;z-index: 1;}#sk-container-id-1 div.sk-parallel {display: flex;align-items: stretch;justify-content: center;background-color: white;position: relative;}#sk-container-id-1 div.sk-item::before, #sk-container-id-1 div.sk-parallel-item::before {content: \"\";position: absolute;border-left: 1px solid gray;box-sizing: border-box;top: 0;bottom: 0;left: 50%;z-index: -1;}#sk-container-id-1 div.sk-parallel-item {display: flex;flex-direction: column;z-index: 1;position: relative;background-color: white;}#sk-container-id-1 div.sk-parallel-item:first-child::after {align-self: flex-end;width: 50%;}#sk-container-id-1 div.sk-parallel-item:last-child::after {align-self: flex-start;width: 50%;}#sk-container-id-1 div.sk-parallel-item:only-child::after {width: 0;}#sk-container-id-1 div.sk-dashed-wrapped {border: 1px dashed gray;margin: 0 0.4em 0.5em 0.4em;box-sizing: border-box;padding-bottom: 0.4em;background-color: white;}#sk-container-id-1 div.sk-label label {font-family: monospace;font-weight: bold;display: inline-block;line-height: 1.2em;}#sk-container-id-1 div.sk-label-container {text-align: center;}#sk-container-id-1 div.sk-container {/* jupyter's `normalize.less` sets `[hidden] { display: none; }` but bootstrap.min.css set `[hidden] { display: none !important; }` so we also need the `!important` here to be able to override the default hidden behavior on the sphinx rendered scikit-learn.org. See: https://github.com/scikit-learn/scikit-learn/issues/21755 */display: inline-block !important;position: relative;}#sk-container-id-1 div.sk-text-repr-fallback {display: none;}</style><div id=\"sk-container-id-1\" class=\"sk-top-container\"><div class=\"sk-text-repr-fallback\"><pre>RandomForestClassifier()</pre><b>In a Jupyter environment, please rerun this cell to show the HTML representation or trust the notebook. <br />On GitHub, the HTML representation is unable to render, please try loading this page with nbviewer.org.</b></div><div class=\"sk-container\" hidden><div class=\"sk-item\"><div class=\"sk-estimator sk-toggleable\"><input class=\"sk-toggleable__control sk-hidden--visually\" id=\"sk-estimator-id-1\" type=\"checkbox\" checked><label for=\"sk-estimator-id-1\" class=\"sk-toggleable__label sk-toggleable__label-arrow\">RandomForestClassifier</label><div class=\"sk-toggleable__content\"><pre>RandomForestClassifier()</pre></div></div></div></div></div>"
      ],
      "text/plain": [
       "RandomForestClassifier()"
      ]
     },
     "execution_count": 21,
     "metadata": {},
     "output_type": "execute_result"
    }
   ],
   "source": [
    "model.fit(X_train,Y_train)"
   ]
  },
  {
   "cell_type": "markdown",
   "id": "41df0b2d",
   "metadata": {
    "papermill": {
     "duration": 0.010906,
     "end_time": "2025-07-25T04:14:47.325602",
     "exception": false,
     "start_time": "2025-07-25T04:14:47.314696",
     "status": "completed"
    },
    "tags": []
   },
   "source": [
    "# Model Evaluation"
   ]
  },
  {
   "cell_type": "code",
   "execution_count": 22,
   "id": "afbab333",
   "metadata": {
    "execution": {
     "iopub.execute_input": "2025-07-25T04:14:47.348907Z",
     "iopub.status.busy": "2025-07-25T04:14:47.348569Z",
     "iopub.status.idle": "2025-07-25T04:14:47.365700Z",
     "shell.execute_reply": "2025-07-25T04:14:47.364889Z"
    },
    "papermill": {
     "duration": 0.030542,
     "end_time": "2025-07-25T04:14:47.367345",
     "exception": false,
     "start_time": "2025-07-25T04:14:47.336803",
     "status": "completed"
    },
    "tags": []
   },
   "outputs": [],
   "source": [
    "# Accuracy score on test data\n",
    "X_test_prediction = model.predict(X_test)\n",
    "test_data_accuracy = accuracy_score(X_test_prediction, Y_test)\n"
   ]
  },
  {
   "cell_type": "code",
   "execution_count": 23,
   "id": "097055d8",
   "metadata": {
    "execution": {
     "iopub.execute_input": "2025-07-25T04:14:47.435619Z",
     "iopub.status.busy": "2025-07-25T04:14:47.435303Z",
     "iopub.status.idle": "2025-07-25T04:14:47.439915Z",
     "shell.execute_reply": "2025-07-25T04:14:47.438974Z"
    },
    "papermill": {
     "duration": 0.018112,
     "end_time": "2025-07-25T04:14:47.441193",
     "exception": false,
     "start_time": "2025-07-25T04:14:47.423081",
     "status": "completed"
    },
    "tags": []
   },
   "outputs": [
    {
     "name": "stdout",
     "output_type": "stream",
     "text": [
      "0.925\n"
     ]
    }
   ],
   "source": [
    "print(test_data_accuracy)"
   ]
  },
  {
   "cell_type": "markdown",
   "id": "75f37c5e",
   "metadata": {
    "papermill": {
     "duration": 0.010979,
     "end_time": "2025-07-25T04:14:47.463556",
     "exception": false,
     "start_time": "2025-07-25T04:14:47.452577",
     "status": "completed"
    },
    "tags": []
   },
   "source": [
    "# Building a predictive system"
   ]
  },
  {
   "cell_type": "code",
   "execution_count": 24,
   "id": "8319e8a2",
   "metadata": {
    "execution": {
     "iopub.execute_input": "2025-07-25T04:14:47.487667Z",
     "iopub.status.busy": "2025-07-25T04:14:47.487056Z",
     "iopub.status.idle": "2025-07-25T04:14:47.504421Z",
     "shell.execute_reply": "2025-07-25T04:14:47.503492Z"
    },
    "papermill": {
     "duration": 0.031116,
     "end_time": "2025-07-25T04:14:47.505968",
     "exception": false,
     "start_time": "2025-07-25T04:14:47.474852",
     "status": "completed"
    },
    "tags": []
   },
   "outputs": [
    {
     "name": "stdout",
     "output_type": "stream",
     "text": [
      "[1]\n",
      "Good quality wine🍷\n"
     ]
    },
    {
     "name": "stderr",
     "output_type": "stream",
     "text": [
      "/usr/local/lib/python3.11/dist-packages/sklearn/base.py:439: UserWarning: X does not have valid feature names, but RandomForestClassifier was fitted with feature names\n",
      "  warnings.warn(\n"
     ]
    }
   ],
   "source": [
    "input_data = (7.3,0.65,0.0,1.2,0.065,15.0,21.0,0.9946,3.39,0.47,10.0)\n",
    "\n",
    "# changing the input data to numpy array\n",
    "input_data_as_numpy_array = np.asarray(input_data)\n",
    "\n",
    "# reshape the data as we are predicting the label for only one value\n",
    "input_data_reshaped = input_data_as_numpy_array.reshape(1, -1)\n",
    "\n",
    "prediction = model.predict(input_data_reshaped)\n",
    "\n",
    "print(prediction)\n",
    "\n",
    "if prediction[0] == 1:\n",
    "    print(\"Good quality wine🍷\")\n",
    "else:\n",
    "    print(\"Bad quality wine❌\")"
   ]
  },
  {
   "cell_type": "code",
   "execution_count": null,
   "id": "223c90bd",
   "metadata": {
    "papermill": {
     "duration": 0.011148,
     "end_time": "2025-07-25T04:14:47.528943",
     "exception": false,
     "start_time": "2025-07-25T04:14:47.517795",
     "status": "completed"
    },
    "tags": []
   },
   "outputs": [],
   "source": []
  }
 ],
 "metadata": {
  "kaggle": {
   "accelerator": "none",
   "dataSources": [
    {
     "datasetId": 7938035,
     "sourceId": 12570018,
     "sourceType": "datasetVersion"
    }
   ],
   "dockerImageVersionId": 31089,
   "isGpuEnabled": false,
   "isInternetEnabled": false,
   "language": "python",
   "sourceType": "notebook"
  },
  "kernelspec": {
   "display_name": "Python 3",
   "language": "python",
   "name": "python3"
  },
  "language_info": {
   "codemirror_mode": {
    "name": "ipython",
    "version": 3
   },
   "file_extension": ".py",
   "mimetype": "text/x-python",
   "name": "python",
   "nbconvert_exporter": "python",
   "pygments_lexer": "ipython3",
   "version": "3.11.13"
  },
  "papermill": {
   "default_parameters": {},
   "duration": 12.357294,
   "end_time": "2025-07-25T04:14:48.159958",
   "environment_variables": {},
   "exception": null,
   "input_path": "__notebook__.ipynb",
   "output_path": "__notebook__.ipynb",
   "parameters": {},
   "start_time": "2025-07-25T04:14:35.802664",
   "version": "2.6.0"
  }
 },
 "nbformat": 4,
 "nbformat_minor": 5
}
